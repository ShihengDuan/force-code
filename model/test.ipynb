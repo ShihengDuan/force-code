{
 "cells": [
  {
   "cell_type": "code",
   "execution_count": 1,
   "metadata": {},
   "outputs": [],
   "source": [
    "import torch\n",
    "from torch import nn, Tensor\n",
    "from utils import R2Loss"
   ]
  },
  {
   "cell_type": "code",
   "execution_count": 2,
   "metadata": {},
   "outputs": [
    {
     "name": "stdout",
     "output_type": "stream",
     "text": [
      "torch.Size([136])   torch.Size([16, 136, 72, 144])\n",
      "torch.Size([16, 136, 10368])\n",
      "torch.Size([136]) torch.Size([1, 136])\n"
     ]
    }
   ],
   "source": [
    "Batch = 16\n",
    "Time = 136\n",
    "Lat = 72\n",
    "Lon = 144\n",
    "data = torch.randn(Batch, Time, Lat, Lon)\n",
    "\n",
    "# Create a time tensor with values [0, 1, 2, ..., Time-1]\n",
    "time_tensor = torch.arange(Time, dtype=torch.float32)\n",
    "print(time_tensor.shape, ' ', data.shape)\n",
    "# Reshape the data tensor to (Batch, Time, -1), so each Lat-Lon grid point is a separate \"feature\"\n",
    "data_reshaped = data.view(Batch, Time, -1)\n",
    "# data_reshaped = data.permute(1,0,2,3)\n",
    "print(data_reshaped.shape)\n",
    "# Calculate the linear slopes for each sample in the batch\n",
    "mean_time = time_tensor.mean()\n",
    "time_diff = time_tensor - mean_time\n",
    "print(time_diff.shape, time_diff.unsqueeze(0).shape)\n",
    "numerator = (time_diff.unsqueeze(0).unsqueeze(2) * data_reshaped).sum(dim=1)\n",
    "denominator = (time_diff**2).sum()\n",
    "slopes = numerator / denominator\n",
    "\n",
    "slopes = slopes.view(Batch, Lat, Lon)"
   ]
  },
  {
   "cell_type": "code",
   "execution_count": 12,
   "metadata": {},
   "outputs": [
    {
     "data": {
      "text/plain": [
       "torch.Size([16, 72, 144])"
      ]
     },
     "execution_count": 12,
     "metadata": {},
     "output_type": "execute_result"
    }
   ],
   "source": [
    "slopes.shape"
   ]
  },
  {
   "cell_type": "code",
   "execution_count": 21,
   "metadata": {},
   "outputs": [
    {
     "name": "stdout",
     "output_type": "stream",
     "text": [
      "[-0.03498343]\n",
      "tensor(-0.0350)\n"
     ]
    },
    {
     "data": {
      "image/png": "[encoded data removed]",
      "text/plain": [
       "<Figure size 640x480 with 1 Axes>"
      ]
     },
     "metadata": {},
     "output_type": "display_data"
    }
   ],
   "source": [
    "from matplotlib import pyplot as plt\n",
    "from sklearn.linear_model import LinearRegression\n",
    "import numpy as np\n",
    "index1 = 10\n",
    "index2 = 50\n",
    "x = data[0, :, index1, index2].data.numpy()\n",
    "model = LinearRegression().fit(np.arange(32).reshape(-1, 1), x)\n",
    "print(model.coef_)\n",
    "plt.plot(data[0, :, index1, index2].data.numpy())\n",
    "print(slopes[0, index1, index2])"
   ]
  },
  {
   "cell_type": "code",
   "execution_count": 17,
   "metadata": {},
   "outputs": [
    {
     "name": "stdout",
     "output_type": "stream",
     "text": [
      "torch.Size([16, 1]) tensor([[1410048.],\n",
      "        [1410048.],\n",
      "        [1410048.],\n",
      "        [1410048.],\n",
      "        [1410048.],\n",
      "        [1410048.],\n",
      "        [1410048.],\n",
      "        [1410048.],\n",
      "        [1410048.],\n",
      "        [1410048.],\n",
      "        [1410048.],\n",
      "        [1410048.],\n",
      "        [1410048.],\n",
      "        [1410048.],\n",
      "        [1410048.],\n",
      "        [1410048.]])\n",
      "torch.Size([16, 1])\n",
      "torch.Size([16])\n",
      "tensor(1.0074)\n",
      "tensor(16.1185)\n"
     ]
    }
   ],
   "source": [
    "Batch = 16\n",
    "Time = 136\n",
    "Lat = 72\n",
    "Lon = 144\n",
    "Channel = 1\n",
    "pred = torch.ones((Batch, Channel, Time, Lat, Lon))\n",
    "target = torch.ones((Batch, Channel, Time, Lat, Lon))\n",
    "target[:,:,0]+=1\n",
    "B = target.shape[0]\n",
    "mask = torch.ones_like(pred, device=pred.device)\n",
    "pred = pred*mask\n",
    "target = target*mask\n",
    "mask_flatten = mask.view(B, -1)\n",
    "target_flatten = target.view(B, -1)\n",
    "pred_flatten = pred.view(B, -1)\n",
    "# target_flatten_mean = torch.mean(target_flatten, dim=-1, keepdim=True)\n",
    "target_flatten_mean = torch.sum(target_flatten, dim=-1, keepdim=True)\n",
    "denom = torch.sum(mask_flatten, dim=-1, keepdim=True)\n",
    "print(denom.shape, denom)\n",
    "target_flatten_mean = target_flatten_mean/denom\n",
    "print(target_flatten_mean.shape)\n",
    "rss = torch.sum(torch.square(target_flatten-pred_flatten), dim=-1) # B, 1\n",
    "tss = torch.sum(torch.square(target_flatten-target_flatten_mean), dim=-1) # B, 1\n",
    "r2_loss = rss/tss\n",
    "print(r2_loss.shape)\n",
    "print(torch.mean(r2_loss))\n",
    "print(torch.sum(r2_loss))"
   ]
  },
  {
   "cell_type": "code",
   "execution_count": 18,
   "metadata": {},
   "outputs": [
    {
     "name": "stdout",
     "output_type": "stream",
     "text": [
      "torch.Size([16, 1])\n",
      "torch.Size([16])\n",
      "tensor(1.0074)\n",
      "tensor(16.1185)\n"
     ]
    }
   ],
   "source": [
    "pred = torch.ones((Batch, Channel, Time, Lat, Lon))\n",
    "target = torch.ones((Batch, Channel, Time, Lat, Lon))\n",
    "target[:,:,0]+=1\n",
    "B = target.shape[0]\n",
    "pred = pred\n",
    "target = target\n",
    "mask_flatten = mask.view(B, -1)\n",
    "target_flatten = target.view(B, -1)\n",
    "pred_flatten = pred.view(B, -1)\n",
    "target_flatten_mean = torch.mean(target_flatten, dim=-1, keepdim=True)\n",
    "print(target_flatten_mean.shape)\n",
    "rss = torch.sum(torch.square(target_flatten-pred_flatten), dim=-1) # B, 1\n",
    "tss = torch.sum(torch.square(target_flatten-target_flatten_mean), dim=-1) # B, 1\n",
    "r2_loss = rss/tss\n",
    "print(r2_loss.shape)\n",
    "print(torch.mean(r2_loss))\n",
    "print(torch.sum(r2_loss))"
   ]
  },
  {
   "cell_type": "code",
   "execution_count": null,
   "metadata": {},
   "outputs": [],
   "source": []
  }
 ],
 "metadata": {
  "kernelspec": {
   "display_name": "ag",
   "language": "python",
   "name": "python3"
  },
  "language_info": {
   "codemirror_mode": {
    "name": "ipython",
    "version": 3
   },
   "file_extension": ".py",
   "mimetype": "text/x-python",
   "name": "python",
   "nbconvert_exporter": "python",
   "pygments_lexer": "ipython3",
   "version": "3.9.16"
  }
 },
 "nbformat": 4,
 "nbformat_minor": 2
}
